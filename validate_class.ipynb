{
 "cells": [
  {
   "cell_type": "markdown",
   "id": "9f06c5a7",
   "metadata": {},
   "source": [
    "# Import Libraries"
   ]
  },
  {
   "cell_type": "code",
   "execution_count": 89,
   "id": "05f2eaa9",
   "metadata": {},
   "outputs": [],
   "source": [
    "import numpy as np\n",
    "import pandas as pd\n",
    "import seaborn as sns"
   ]
  },
  {
   "cell_type": "markdown",
   "id": "ef826c52",
   "metadata": {},
   "source": [
    "# Read Sample Data"
   ]
  },
  {
   "cell_type": "code",
   "execution_count": 90,
   "id": "ce1b0198",
   "metadata": {},
   "outputs": [],
   "source": [
    "df = sns.load_dataset('iris')"
   ]
  },
  {
   "cell_type": "code",
   "execution_count": 91,
   "id": "80ae8506",
   "metadata": {},
   "outputs": [
    {
     "data": {
      "text/html": [
       "<div>\n",
       "<style scoped>\n",
       "    .dataframe tbody tr th:only-of-type {\n",
       "        vertical-align: middle;\n",
       "    }\n",
       "\n",
       "    .dataframe tbody tr th {\n",
       "        vertical-align: top;\n",
       "    }\n",
       "\n",
       "    .dataframe thead th {\n",
       "        text-align: right;\n",
       "    }\n",
       "</style>\n",
       "<table border=\"1\" class=\"dataframe\">\n",
       "  <thead>\n",
       "    <tr style=\"text-align: right;\">\n",
       "      <th></th>\n",
       "      <th>sepal_length</th>\n",
       "      <th>sepal_width</th>\n",
       "      <th>petal_length</th>\n",
       "      <th>petal_width</th>\n",
       "      <th>species</th>\n",
       "    </tr>\n",
       "  </thead>\n",
       "  <tbody>\n",
       "    <tr>\n",
       "      <th>0</th>\n",
       "      <td>5.1</td>\n",
       "      <td>3.5</td>\n",
       "      <td>1.4</td>\n",
       "      <td>0.2</td>\n",
       "      <td>setosa</td>\n",
       "    </tr>\n",
       "    <tr>\n",
       "      <th>1</th>\n",
       "      <td>4.9</td>\n",
       "      <td>3.0</td>\n",
       "      <td>1.4</td>\n",
       "      <td>0.2</td>\n",
       "      <td>setosa</td>\n",
       "    </tr>\n",
       "    <tr>\n",
       "      <th>2</th>\n",
       "      <td>4.7</td>\n",
       "      <td>3.2</td>\n",
       "      <td>1.3</td>\n",
       "      <td>0.2</td>\n",
       "      <td>setosa</td>\n",
       "    </tr>\n",
       "  </tbody>\n",
       "</table>\n",
       "</div>"
      ],
      "text/plain": [
       "   sepal_length  sepal_width  petal_length  petal_width species\n",
       "0           5.1          3.5           1.4          0.2  setosa\n",
       "1           4.9          3.0           1.4          0.2  setosa\n",
       "2           4.7          3.2           1.3          0.2  setosa"
      ]
     },
     "execution_count": 91,
     "metadata": {},
     "output_type": "execute_result"
    }
   ],
   "source": [
    "df.head(3)"
   ]
  },
  {
   "cell_type": "markdown",
   "id": "b0d8d065",
   "metadata": {},
   "source": [
    "# Benchmark"
   ]
  },
  {
   "cell_type": "code",
   "execution_count": 92,
   "id": "a27bd348",
   "metadata": {},
   "outputs": [],
   "source": [
    "def summary_statistic(df) -> pd.DataFrame:\n",
    "\n",
    "        \"\"\"\n",
    "        function input: it get a pandas dataframe as a csv file\n",
    "        output: return: retuen a information about columns as pandas dataframe\n",
    "        \"\"\"\n",
    "\n",
    "\n",
    "\n",
    "        feature_describe = df.describe().T.reset_index().rename(\n",
    "                               columns={'index':'feature'}).drop(columns='count')\n",
    "\n",
    "        feature_info = pd.concat([df.dtypes,\n",
    "                                   df.nunique(),\n",
    "                                   df.isna().sum(),\n",
    "                                   df.count()], axis=1,\n",
    "                    keys=['type', 'count_unique', 'count_nan', 'count']).reset_index().rename(columns={'index':'feature'})\n",
    "\n",
    "        summary_statistic_result = feature_info.merge(feature_describe, how='left', on='feature')\n",
    "\n",
    "        return summary_statistic_result"
   ]
  },
  {
   "cell_type": "code",
   "execution_count": 93,
   "id": "f308279c",
   "metadata": {},
   "outputs": [],
   "source": [
    "df_s = summary_statistic(df)"
   ]
  },
  {
   "cell_type": "code",
   "execution_count": 94,
   "id": "cde65396",
   "metadata": {},
   "outputs": [],
   "source": [
    "num_benchmark = df_s[df_s['type'] != 'object'][['feature','mean']].set_index('feature').T.to_dict()"
   ]
  },
  {
   "cell_type": "code",
   "execution_count": 95,
   "id": "ecfd42f3",
   "metadata": {},
   "outputs": [
    {
     "data": {
      "text/plain": [
       "{'sepal_length': {'mean': 5.843333333333335},\n",
       " 'sepal_width': {'mean': 3.057333333333334},\n",
       " 'petal_length': {'mean': 3.7580000000000027},\n",
       " 'petal_width': {'mean': 1.199333333333334}}"
      ]
     },
     "execution_count": 95,
     "metadata": {},
     "output_type": "execute_result"
    }
   ],
   "source": [
    "num_benchmark"
   ]
  },
  {
   "cell_type": "code",
   "execution_count": 96,
   "id": "a4cc0c4c",
   "metadata": {},
   "outputs": [],
   "source": [
    "cat_benchmark = df_s[df_s['type'] == 'object'][['feature','count_unique']].set_index('feature').T.to_dict()"
   ]
  },
  {
   "cell_type": "code",
   "execution_count": 97,
   "id": "2e3c1525",
   "metadata": {},
   "outputs": [
    {
     "data": {
      "text/plain": [
       "{'species': {'count_unique': 3}}"
      ]
     },
     "execution_count": 97,
     "metadata": {},
     "output_type": "execute_result"
    }
   ],
   "source": [
    "cat_benchmark"
   ]
  },
  {
   "cell_type": "markdown",
   "id": "1b9defc7",
   "metadata": {},
   "source": [
    "# Validate Class"
   ]
  },
  {
   "cell_type": "code",
   "execution_count": 110,
   "id": "6f3c22fb",
   "metadata": {},
   "outputs": [],
   "source": [
    "class ValidateFeature:\n",
    "    \n",
    "    def __init__(self,product):\n",
    "        \n",
    "        self.num_benchmark = {\n",
    "                                'sepal_length': {'mean': 5.843333333333335},\n",
    "                                'sepal_width': {'mean': 3.057333333333334},\n",
    "                                'petal_length': {'mean': 3.7580000000000027},\n",
    "                                'petal_width': {'mean': 1.199333333333334}\n",
    "                              }\n",
    "        \n",
    "        self.cat_benchmark = {\n",
    "                                'species': {'count_unique': 3},\n",
    "                              }\n",
    "        self.product = product\n",
    "    def validate_selective_feature(self,product,is_numerical):\n",
    "    \n",
    "        if is_numerical == True:\n",
    "            product = product.select_dtypes(exclude=['object'])\n",
    "            try:\n",
    "                for col in product.columns:\n",
    "                    if col in self.num_benchmark.keys():\n",
    "                        acceptance_limit_lower = self.num_benchmark[col]['mean']\\\n",
    "                            - self.num_benchmark[col]['mean']*25/100\n",
    "                        acceptance_limit_upper = self.num_benchmark[col]['mean']\\\n",
    "                            + self.num_benchmark[col]['mean']*25/100\n",
    "                        assert acceptance_limit_lower < product[col].mean() < acceptance_limit_upper\n",
    "                        print(f' \"{col}\" passed!')\n",
    "                    else:\n",
    "                        print(f' \"{col}\" is new feture!')\n",
    "            except:\n",
    "                print(f' \"{col}\" failed!')\n",
    "        elif is_numerical == False:\n",
    "            product = product.select_dtypes(include=['object'])\n",
    "            try:\n",
    "                for col in product.columns:\n",
    "                    if col in self.cat_benchmark.keys():\n",
    "                        acceptance_limit_lower = self.cat_benchmark[col]['count_unique']\\\n",
    "                            - self.cat_benchmark[col]['count_unique']*5/100\n",
    "                        acceptance_limit_upper = self.cat_benchmark[col]['count_unique']\\\n",
    "                            + self.cat_benchmark[col]['count_unique']*5/100\n",
    "                        assert acceptance_limit_lower < product[col].nunique() < acceptance_limit_upper\n",
    "                        print(f' \"{col}\" passed!')\n",
    "                    else:\n",
    "                        print(f' \"{col}\" is new feture!')\n",
    "            except:\n",
    "                print(f' \"{col}\" failed!')\n",
    "                \n",
    "    def validate_feature(self):\n",
    "        print('_'*25 + 'Numerical Variable'+ '_'*25 + '\\n')\n",
    "        self.validate_selective_feature(self.product,is_numerical=True)\n",
    "        print('_'*25 + 'Categorical Variable'+ '_'*25 + '\\n')\n",
    "        self.validate_selective_feature(self.product,is_numerical=False)   "
   ]
  },
  {
   "cell_type": "code",
   "execution_count": 111,
   "id": "5c6a85e4",
   "metadata": {},
   "outputs": [],
   "source": [
    "o = ValidateFeature(df)"
   ]
  },
  {
   "cell_type": "code",
   "execution_count": 112,
   "id": "4569fac7",
   "metadata": {},
   "outputs": [
    {
     "name": "stdout",
     "output_type": "stream",
     "text": [
      "_________________________Numerical Variable_________________________\n",
      "\n",
      " \"sepal_length\" passed!\n",
      " \"sepal_width\" passed!\n",
      " \"petal_length\" passed!\n",
      " \"petal_width\" passed!\n",
      "_________________________Categorical Variable_________________________\n",
      "\n",
      " \"species\" passed!\n"
     ]
    }
   ],
   "source": [
    "o.validate_feature()"
   ]
  },
  {
   "cell_type": "code",
   "execution_count": null,
   "id": "daa32faf",
   "metadata": {},
   "outputs": [],
   "source": []
  }
 ],
 "metadata": {
  "kernelspec": {
   "display_name": "Python 3 (ipykernel)",
   "language": "python",
   "name": "python3"
  },
  "language_info": {
   "codemirror_mode": {
    "name": "ipython",
    "version": 3
   },
   "file_extension": ".py",
   "mimetype": "text/x-python",
   "name": "python",
   "nbconvert_exporter": "python",
   "pygments_lexer": "ipython3",
   "version": "3.9.7"
  }
 },
 "nbformat": 4,
 "nbformat_minor": 5
}
